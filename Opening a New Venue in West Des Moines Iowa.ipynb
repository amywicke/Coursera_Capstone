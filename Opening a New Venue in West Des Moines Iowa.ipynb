{
    "cells": [
        {
            "cell_type": "markdown",
            "metadata": {},
            "source": "# Capstone Project - Opening a new venue in West Des Moines Iowa"
        },
        {
            "cell_type": "markdown",
            "metadata": {
                "collapsed": true
            },
            "source": "## Introduction and Business Problem"
        },
        {
            "cell_type": "markdown",
            "metadata": {},
            "source": "A group of investors in Iowa is looking to open a new restaurant. The investors want to ensure that the new venture is one that is unique to the neighborhood where they plan to open, West Des Moines, Iowa. In order to determine what type of restaurant to open, the investors need an analysis of the current venues operating in the target neighborhood so that they do not open a restaurant similar to ones already in existence. "
        },
        {
            "cell_type": "markdown",
            "metadata": {},
            "source": "## Data Section"
        },
        {
            "cell_type": "markdown",
            "metadata": {},
            "source": "The data needed for this project is an analysis of the current restaurant types operating in the city of West Des Moines, Iowa. These venues will be grouped by category and distance from the target location of the building the investors are interested in purchasing for their new venue. This data will be used to ensure the type of restaurant opened by the investors will be one that is unique to the area. The data will be mined from Foursquare data on the current venues in operation in the target neighborhood, and the greater Des Moines metro area. "
        }
    ],
    "metadata": {
        "kernelspec": {
            "display_name": "Python 3.6",
            "language": "python",
            "name": "python3"
        },
        "language_info": {
            "codemirror_mode": {
                "name": "ipython",
                "version": 3
            },
            "file_extension": ".py",
            "mimetype": "text/x-python",
            "name": "python",
            "nbconvert_exporter": "python",
            "pygments_lexer": "ipython3",
            "version": "3.6.9"
        }
    },
    "nbformat": 4,
    "nbformat_minor": 1
}