{
    "cells": [
        {
            "cell_type": "markdown",
            "metadata": {},
            "source": "# Capstone Project - Opening a new venue in West Des Moines Iowa"
        },
        {
            "cell_type": "markdown",
            "metadata": {
                "collapsed": true
            },
            "source": "## Introduction and Business Problem"
        },
        {
            "cell_type": "markdown",
            "metadata": {},
            "source": "A group of investors in Iowa is looking to open a new restaurant. The investors want to ensure that the new venture is one that is unique to the neighborhood where they plan to open, West Des Moines, Iowa. In order to determine what type of restaurant to open, the investors need an analysis of the current venues operating in the target neighborhood so that they do not open a restaurant similar to ones already in existence. The target audience for the report is the investor group; they need this analysis to give the restaurant they are opening the best chance to survive in a competitive industry. Additionally, the neighborhood in which the restaurant is going to be opened in is anxious to see what the new venue will be."
        },
        {
            "cell_type": "markdown",
            "metadata": {},
            "source": "## Data Section"
        },
        {
            "cell_type": "markdown",
            "metadata": {},
            "source": "The data needed for this project is an analysis of the current restaurant types operating in the city of West Des Moines, Iowa. These venues will be grouped by category and distance from the target location of the building the investors are interested in purchasing for their new venue. This data will be mined from FourSquare venue category information to cluster the similar restaurant types within the West Des Moines area and used to make a decision on the restaurant type for the investors to open, so that it is a unique venue."
        }
    ],
    "metadata": {
        "kernelspec": {
            "display_name": "Python 3.6",
            "language": "python",
            "name": "python3"
        },
        "language_info": {
            "codemirror_mode": {
                "name": "ipython",
                "version": 3
            },
            "file_extension": ".py",
            "mimetype": "text/x-python",
            "name": "python",
            "nbconvert_exporter": "python",
            "pygments_lexer": "ipython3",
            "version": "3.6.9"
        }
    },
    "nbformat": 4,
    "nbformat_minor": 1
}